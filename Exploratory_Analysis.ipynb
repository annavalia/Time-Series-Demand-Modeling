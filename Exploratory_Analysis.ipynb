{
 "cells": [
  {
   "cell_type": "markdown",
   "id": "74d0278f-6a45-46af-b2b9-b890bd186d1d",
   "metadata": {},
   "source": [
    "<h1>Building a Demand Forecasting Model of Top Selling Product</h1>\n"
   ]
  },
  {
   "cell_type": "markdown",
   "id": "42571b9c-6c92-40e1-8aec-5e7bdee1a75b",
   "metadata": {},
   "source": [
    "*By:AnnMarie Valiakulathil*"
   ]
  },
  {
   "cell_type": "markdown",
   "id": "e96fb9e4-614f-4955-b39e-c73ad51c7c37",
   "metadata": {},
   "source": [
    "<h2>INTRODUCTION</h2>\n",
    "    This project explores retail demand forecasting using historical sales and supply chain data from 2015–2017. The dataset contains over 180,000 transaction records across products, categories, and global markets.\n",
    "The goal is to analyze sales trends, detect seasonality, and build predictive models that forecast future demand to support inventory optimization and business decision-making.\n",
    "\n",
    "The main business questions to answer include:\n",
    "1.Which product categories are expected to have the highest sales growth in 2018?\n",
    "2.How will regional seasonality affect sales demand across markets in 2018?\n",
    "3.Can we predict short-term demand spikes caused by promotions or discounts?\n",
    "\n",
    "The analysis covers:\n",
    "\n",
    "<u>**Data cleaning and exploration**</u> to identify key sales and delivery patterns\n",
    "\n",
    "<u>**Time series modeling**</u> using SARIMA, Prophet, and machine learning techniques\n",
    "\n",
    "<u>**Evaluation of forecast accuracy**</u> across models and product categories\n",
    "\n",
    "<u>**Actionable insights**</u> for retail operations, marketing, and supply chain management\n",
    "\n",
    "1. Import Libraries & Load Data\n",
    "2. Data Cleaning & Date Formatting\n",
    "3. Exploratory Data Analysis (EDA)\n",
    "4. Section 1: Category Forecasting\n",
    "5. Section 2: Regional Seasonality\n",
    "6. Section 3: Discount Impact Modeling\n",
    "7. Results & Insights Summary\n",
    "8. Future Work\n",
    "\n",
    "By combining statistical and machine learning methods, this project demonstrates how data-driven forecasting can improve planning, reduce stockouts, and enhance customer satisfaction in dynamic retail environments."
   ]
  },
  {
   "cell_type": "code",
   "execution_count": null,
   "id": "64b32bae-1215-4102-b4ee-1def3a8f6dda",
   "metadata": {},
   "outputs": [],
   "source": []
  }
 ],
 "metadata": {
  "kernelspec": {
   "display_name": "Python 3 (ipykernel)",
   "language": "python",
   "name": "python3"
  },
  "language_info": {
   "codemirror_mode": {
    "name": "ipython",
    "version": 3
   },
   "file_extension": ".py",
   "mimetype": "text/x-python",
   "name": "python",
   "nbconvert_exporter": "python",
   "pygments_lexer": "ipython3",
   "version": "3.12.4"
  }
 },
 "nbformat": 4,
 "nbformat_minor": 5
}
